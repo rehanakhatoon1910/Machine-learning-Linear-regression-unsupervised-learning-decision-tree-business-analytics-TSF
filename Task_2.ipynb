# Importing libraries and reading data

import pandas as pd
import numpy as np
import seaborn as sns
import matplotlib.pyplot as plt

dataset=pd.read_csv("https://raw.githubusercontent.com/AdiPersonalWorks/Random/master/student_scores%20-%20student_scores.csv")
print(dataset)

dataset.info()

x=dataset.iloc[:,:-1].values
y=dataset.iloc[:,-1].values

# Plotting dataset

sns.pairplot(dataset)

print(x,y)

sns.scatterplot(x=dataset.Hours,y=dataset.Scores)

dataset.corr()

x=dataset['Hours'].values.reshape(-1,1)
y=dataset['Scores'].values.reshape(-1,1)

# Building Model

from sklearn.model_selection import train_test_split
from sklearn.linear_model import LinearRegression
x_train,x_test,y_train,y_test=train_test_split(x,y,test_size=0.2,random_state=0)
regressor=LinearRegression()

regressor.fit(x_train,y_train)

prediction=regressor.predict(x_test)
prediction

from sklearn import metrics
result=pd.DataFrame(y_test.tolist(),columns=['Actual_value'])
result=result.join(pd.DataFrame(prediction.tolist(),columns=['Predicted_value']))
result

# Model testing (prediction)

Q?.What will be predicted score if a student study for 9.25 hrs in a
day?

print('The score of a student if he studies for 9.25 hrs in a day:- {}'.format(regressor.predict(np.array(9.25).reshape(-1,1))))

mean_abs_error=metrics.mean_absolute_error(y_test,prediction)
print('Mean absolute error for this is {}'.format(mean_abs_error))

